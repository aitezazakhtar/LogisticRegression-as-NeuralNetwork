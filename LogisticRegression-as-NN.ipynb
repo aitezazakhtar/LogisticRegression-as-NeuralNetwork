{
 "cells": [
  {
   "cell_type": "markdown",
   "metadata": {},
   "source": [
    "# Logistic Regression as a Neural Network"
   ]
  },
  {
   "cell_type": "markdown",
   "metadata": {},
   "source": [
    "We will build a logistic regression classifier to recognize cats with a Neural Network mindset."
   ]
  },
  {
   "cell_type": "markdown",
   "metadata": {},
   "source": [
    "## Packages"
   ]
  },
  {
   "cell_type": "code",
   "execution_count": 1,
   "metadata": {},
   "outputs": [],
   "source": [
    "import numpy as np\n",
    "import matplotlib.pyplot as plt\n",
    "import h5py\n",
    "from PIL import Image\n",
    "from lr_utils import load_dataset\n",
    "\n",
    "%matplotlib inline"
   ]
  },
  {
   "cell_type": "markdown",
   "metadata": {},
   "source": [
    "## Overview of Problem Set"
   ]
  },
  {
   "cell_type": "markdown",
   "metadata": {},
   "source": [
    "We have a dataset (\"data.h5\") containing:\n",
    "\n",
    "- a training set of m_train images labeled as cat (y=1) or non-cat (y=0)\n",
    "- a test set of m_test images labeled as cat or non-cat\n",
    "- each image is of shape (num_px, num_px, 3) where 3 is for the 3 channels (RGB). Thus, each image is square (height = num_px) and (width = num_px).\n",
    "\n",
    "We will build a simple image-recognition algorithm that can correctly classify pictures as cat or non-cat."
   ]
  },
  {
   "cell_type": "code",
   "execution_count": 2,
   "metadata": {},
   "outputs": [],
   "source": [
    "#loading the data\n",
    "x_train_orig, y_train, x_test_orig, y_test, classes = load_dataset()"
   ]
  },
  {
   "cell_type": "code",
   "execution_count": 39,
   "metadata": {},
   "outputs": [
    {
     "name": "stdout",
     "output_type": "stream",
     "text": [
      "y= 1 ,it's a cat picture\n"
     ]
    },
    {
     "data": {
      "image/png": "[encoded data removed]",
      "text/plain": [
       "<Figure size 432x288 with 1 Axes>"
      ]
     },
     "metadata": {
      "needs_background": "light"
     },
     "output_type": "display_data"
    }
   ],
   "source": [
    "#checking image\n",
    "index = 7\n",
    "plt.imshow(x_train_orig[index])\n",
    "\n",
    "print(\"y=\",y_train[0,index],\",it's a\",classes[y_train[0,index]].decode('utf-8'),'picture')"
   ]
  },
  {
   "cell_type": "code",
   "execution_count": 41,
   "metadata": {},
   "outputs": [
    {
     "data": {
      "text/plain": [
       "(209, 64, 64, 3)"
      ]
     },
     "execution_count": 41,
     "metadata": {},
     "output_type": "execute_result"
    }
   ],
   "source": [
    "x_train_orig.shape"
   ]
  },
  {
   "cell_type": "code",
   "execution_count": 46,
   "metadata": {},
   "outputs": [
    {
     "name": "stdout",
     "output_type": "stream",
     "text": [
      "No. of training examples: 209\n",
      "No. of test examples: 50\n",
      "Dimension of image: 64 * 64\n",
      "x_train shape: (209, 64, 64, 3)\n",
      "y_train shape: (1, 209)\n",
      "x_test_orig shape: (50, 64, 64, 3)\n",
      "y_test.shape: (1, 50)\n"
     ]
    }
   ],
   "source": [
    "#checking vectors/matrix dimensions\n",
    "m_train = x_train_orig.shape[0]\n",
    "m_test = x_test_orig.shape[0]\n",
    "num_px = x_train_orig.shape[1]\n",
    "\n",
    "print(\"No. of training examples:\",m_train)\n",
    "print(\"No. of test examples:\",m_test)\n",
    "print(\"Dimension of image:\",num_px,\"*\",num_px)\n",
    "print(\"x_train shape:\",x_train_orig.shape)\n",
    "print(\"y_train shape:\",y_train.shape)\n",
    "print(\"x_test_orig shape:\",x_test_orig.shape)\n",
    "print(\"y_test.shape:\",y_test.shape)"
   ]
  },
  {
   "cell_type": "code",
   "execution_count": 51,
   "metadata": {},
   "outputs": [
    {
     "name": "stdout",
     "output_type": "stream",
     "text": [
      "Before reshaping/flatten\n",
      "x_train shape: (209, 64, 64, 3)\n",
      "x_test shape: (50, 64, 64, 3)\n",
      "\n",
      "After reshaping/flatten\n",
      "x_train shape: (12288, 209)\n",
      "x_test shape: (12288, 50)\n"
     ]
    }
   ],
   "source": [
    "#Reshape the training and test examples\n",
    "x_train = x_train_orig.reshape(x_train_orig.shape[0],-1).T\n",
    "x_test = x_test_orig.reshape(x_test_orig.shape[0],-1).T\n",
    "\n",
    "print(\"Before reshaping/flatten\")\n",
    "print(\"x_train shape:\",x_train_orig.shape)\n",
    "print(\"x_test shape:\",x_test_orig.shape)\n",
    "print(\"\\nAfter reshaping/flatten\")\n",
    "print(\"x_train shape:\",x_train.shape)\n",
    "print(\"x_test shape:\",x_test.shape)"
   ]
  },
  {
   "cell_type": "code",
   "execution_count": 52,
   "metadata": {},
   "outputs": [],
   "source": [
    "#standardize our dataset\n",
    "x_train = x_train/255.\n",
    "x_test = x_test/255"
   ]
  },
  {
   "cell_type": "markdown",
   "metadata": {},
   "source": [
    "## General Architecture of learning algorithm"
   ]
  },
  {
   "cell_type": "markdown",
   "metadata": {},
   "source": [
    "We will build a Logistic Regression, using a Neural Network mindset. The following Figure explains why Logistic Regression is actually a very simple Neural Network!"
   ]
  },
  {
   "cell_type": "markdown",
   "metadata": {},
   "source": [
    "<img src=\"images/LogReg_kiank.png\" style=\"width:650px;height:400px;\">"
   ]
  },
  {
   "cell_type": "code",
   "execution_count": null,
   "metadata": {},
   "outputs": [],
   "source": []
  }
 ],
 "metadata": {
  "kernelspec": {
   "display_name": "Python 3",
   "language": "python",
   "name": "python3"
  },
  "language_info": {
   "codemirror_mode": {
    "name": "ipython",
    "version": 3
   },
   "file_extension": ".py",
   "mimetype": "text/x-python",
   "name": "python",
   "nbconvert_exporter": "python",
   "pygments_lexer": "ipython3",
   "version": "3.8.3"
  }
 },
 "nbformat": 4,
 "nbformat_minor": 4
}
